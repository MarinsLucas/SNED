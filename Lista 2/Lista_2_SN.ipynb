{
  "nbformat": 4,
  "nbformat_minor": 0,
  "metadata": {
    "colab": {
      "provenance": []
    },
    "kernelspec": {
      "name": "python3",
      "display_name": "Python 3"
    },
    "language_info": {
      "name": "python"
    }
  },
  "cells": [
    {
      "cell_type": "code",
      "source": [
        "import matplotlib.pyplot as plt\n",
        "import numpy as np\n",
        "\n",
        "def TDMASolve(a, b, c, d):\n",
        "  nmax = len(d)#n em números é linhas\n",
        "\n",
        "  # Modifica o primeiro coeficiente de cada linha\n",
        "  c[0] /= b[0] #Risco de divisão por zero.\n",
        "  d[0] /= b[0]\n",
        "\n",
        "  for i in range(1, nmax):\n",
        "    ptemp = b[i] - (a[i] * c[i-1])\n",
        "    c[i] /= ptemp\n",
        "    d[i] = (d[i] - a[i] * d[i-1])/ptemp\n",
        "\n",
        "  #Substituição de volta\n",
        "  x = [0 for i in range(nmax)]\n",
        "  x[-1] = d[-1]\n",
        "  for i in range(-2,-nmax-1,-1):\n",
        "    x[i] = d[i] - c[i] * x[i+1]\n",
        "  return x"
      ],
      "metadata": {
        "id": "nc5zFlDRvAf9"
      },
      "execution_count": null,
      "outputs": []
    },
    {
      "cell_type": "markdown",
      "source": [
        "#Questão 1: Lei de Helmholtz - Condição Dirichlet"
      ],
      "metadata": {
        "id": "5RIF4khGAAx-"
      }
    },
    {
      "cell_type": "code",
      "execution_count": null,
      "metadata": {
        "id": "p1O4g1aX_7aW"
      },
      "outputs": [],
      "source": [
        "\n",
        "def taxaconvergencia(erro, numpoints):\n",
        "  taxa = []\n",
        "  for i in range(0, len(numpoints)-1):\n",
        "      taxa.append((np.log2(erro[i+1]) - np.log2(erro[i])) / (np.log2(numpoints[i+1]) - np.log2(numpoints[i])))\n",
        "  return np.mean(taxa)\n",
        "\n",
        "def sol_exata(x):\n",
        "  return np.cos(k*x)\n",
        "\n",
        "def f(k, x):\n",
        "  return 0.0\n",
        "\n",
        "def norma_maximo(aprox, exata):\n",
        "  return max(abs(exata - aprox))\n",
        "\n",
        "def diferenca_central_dirichlet(a, b, k, nel):\n",
        "  h = (b-a)/nel\n",
        "  x = np.linspace(a, b, nel+1)\n",
        "  #print(h*k)\n",
        "  u = np.zeros(nel + 1)\n",
        "\n",
        "  u[0]= sol_exata(a)\n",
        "  u[nel] = sol_exata(b)\n",
        "\n",
        "  diagonal1 = np.ones(nel-1 )\n",
        "  diagonal2 = np.ones(nel-1)*(((h**2)*(k**2))-2)\n",
        "  diagonal3 = np.ones(nel-1)\n",
        "  d = np.zeros(nel-1)\n",
        "  #d = f(k, np.linspace(a + h, b-h, nel-1))\n",
        "\n",
        "  d[0] = d[0] - (u[0])\n",
        "  d[nel-2] = d[nel-2] - u[nel]\n",
        "\n",
        "  u[1:nel] = TDMASolve(diagonal1, diagonal2, diagonal3, d)\n",
        "  return u, x\n",
        "\n",
        "\n",
        "for i in range(1, 4):\n",
        "  k = 10**i\n",
        "  erros = []\n",
        "  nels = []\n",
        "  for j in range(1, 6):\n",
        "    nel = int(10 ** j) #numero de elementos da aproximação\n",
        "    a = 0\n",
        "    b = 1\n",
        "    u, x = diferenca_central_dirichlet(a, b, k, nel)\n",
        "    #print(nel)\n",
        "    #print(k)\n",
        "    #print(norma_maximo(u,sol_exata(x )))\n",
        "    if(k < nel):\n",
        "        erros.append(norma_maximo(u, sol_exata(x)))\n",
        "        nels.append( nel)\n",
        "\n",
        "    \"\"\" plt.plot(np.linspace(a, b, 100000), sol_exata(np.linspace(a, b, 100000)), color=\"orange\")\n",
        "    plt.plot(x, u, '-*', color='blue')\n",
        "    plt.show() \"\"\"\n",
        "\n",
        "  print(taxaconvergencia(erros,nels))\n",
        "  plt.plot(np.log10(nels), np.log10(erros), '-*', label = \"k=\" + \"%.0f\" % k)\n",
        "  plt.legend()\n",
        "\n",
        "plt.xlabel(\"log₁₀(número de pontos)\")\n",
        "plt.ylabel(\"log₁₀(erro)\")\n",
        "plt.show()"
      ]
    },
    {
      "cell_type": "markdown",
      "source": [
        "#Questão 2: Condição de Neumann"
      ],
      "metadata": {
        "id": "AD7eUkIUy755"
      }
    },
    {
      "cell_type": "code",
      "metadata": {
        "id": "RXP8AsvatiaL",
        "colab": {
          "base_uri": "https://localhost:8080/",
          "height": 430
        },
        "outputId": "de641a0b-8c61-49de-874a-fdb6923d99d9"
      },
      "source": [
        "import matplotlib.pyplot as plt\n",
        "import numpy as np\n",
        "import math\n",
        "\n",
        "def devsol_exata(x):\n",
        "  return np.exp(-100*x)\n",
        "\n",
        "def sol_exata2(x, e, k ):\n",
        "  return ((-e/k)*np.exp((-k/e)*x)) + 1 + (e/k)*np.exp(-k/e)\n",
        "\n",
        "def f2():\n",
        "  return 0.0"
      ],
      "execution_count": null,
      "outputs": [
        {
          "output_type": "display_data",
          "data": {
            "text/plain": [
              "<Figure size 640x480 with 1 Axes>"
            ],
            "image/png": "[encoded data removed]"
          },
          "metadata": {}
        }
      ]
    },
    {
      "cell_type": "code",
      "source": [
        "def Neumann_progressivo(xi, xf, nel, k, e):\n",
        "    h = (xf - xi) / nel\n",
        "    h2 = h * h\n",
        "    x = np.linspace(xi, xf, nel)\n",
        "    u = np.zeros(nel)\n",
        "    alpha = 1 #valor cujo a derivada é igual\n",
        "    beta = 1\n",
        "    u[nel-1] = beta\n",
        "\n",
        "    # Construção da matriz\n",
        "    c = np.ones(nel) * (e/h2) #diagonal uj+1\n",
        "    b = np.ones(nel) * ((-2*e + k*h)/h2) #diagonal principal\n",
        "    a = np.ones(nel) * ((e/h2)-k/h) #diagonal uj-1\n",
        "    # Construção do vetor fonte\n",
        "    d = np.zeros(nel)\n",
        "    # Contribuição das condições de contorno no termo fonte\n",
        "    d[0] = d[0] - k*alpha +(e*alpha)/h\n",
        "    d[nel-1] = d[nel-1] - e*beta/h2\n",
        "\n",
        "    # Modificação do primeiro elemento da matriz para inclusão da condição Neumann\n",
        "    a[0] = e/h2\n",
        "    b[0] = -e/h2\n",
        "\n",
        "    u[0:nel] = TDMASolve(a, b, c, d)\n",
        "    return u, x"
      ],
      "metadata": {
        "id": "S3eRlfKCorCF"
      },
      "execution_count": 167,
      "outputs": []
    },
    {
      "cell_type": "code",
      "source": [
        "def Neumann_regressivo(xi, xf, nel, k, e):\n",
        "    h = (xf - xi) / nel\n",
        "    h2 = h * h\n",
        "    x = np.linspace(xi, xf, nel)\n",
        "    u = np.zeros(nel)\n",
        "    alpha = 1 #valor cujo a derivada é igual\n",
        "    beta = 1\n",
        "    u[nel-1] = beta\n",
        "\n",
        "    # Construção da matriz\n",
        "    c = np.ones(nel) * (e/h2) + k/h #diagonal uj+1\n",
        "    b = np.ones(nel) * ((-2*e - k*h)/h2) #diagonal principal\n",
        "    a = np.ones(nel) * ((e/h2)) #diagonal uj-1\n",
        "    # Construção do vetor fonte\n",
        "    d = np.zeros(nel)\n",
        "    # Contribuição das condições de contorno no termo fonte\n",
        "    d[0] = d[0] + (e*alpha)/h\n",
        "    d[nel-1] = d[nel-1] - e*beta/h2 - k*beta/h\n",
        "\n",
        "    # Modificação do primeiro elemento da matriz para inclusão da condição Neumann\n",
        "    a[0] = e/h2 + k/h\n",
        "    b[0] = -e/h2 -k/h\n",
        "\n",
        "    u[0:nel] = TDMASolve(a, b, c, d)\n",
        "    return u, x"
      ],
      "metadata": {
        "id": "mFyDfvgXowZG"
      },
      "execution_count": 170,
      "outputs": []
    },
    {
      "cell_type": "code",
      "source": [
        "def Neumann_difcentral(xi, xf, nel, k, e):\n",
        "    h = (xf - xi) / nel\n",
        "    h2 = h * h\n",
        "    x = np.linspace(xi, xf, nel)\n",
        "    u = np.zeros(nel)\n",
        "    alpha = 1 #valor cujo a derivada é igual\n",
        "    beta = 1\n",
        "    u[nel-1] = beta\n",
        "\n",
        "    # Construção da matriz\n",
        "    c = np.ones(nel) * (e/h2) + k/(2*h) #diagonal uj+1\n",
        "    b = np.ones(nel) * (-2*e/h2) #diagonal principal\n",
        "    a = np.ones(nel) * ((e/h2) - k/(2*h)) #diagonal uj-1\n",
        "    # Construção do vetor fonte\n",
        "    d = np.zeros(nel)\n",
        "    # Contribuição das condições de contorno no termo fonte\n",
        "    d[0] = d[0] + ((2*e*alpha)/h) - (k*alpha)\n",
        "    d[nel-1] = d[nel-1] - e*beta/h2 - k*beta/(2*h)\n",
        "\n",
        "    # Modificação do primeiro elemento da matriz para inclusão da condição Neumann\n",
        "    b[0] = -2*e/h2\n",
        "    c[0] = 2*e/h2\n",
        "\n",
        "    u[0:nel] = TDMASolve(a, b, c, d)\n",
        "    return u, x"
      ],
      "metadata": {
        "id": "Uua5QnjOqJ6d"
      },
      "execution_count": 171,
      "outputs": []
    },
    {
      "cell_type": "code",
      "source": [
        "def calculagama(e, k, h, xi, xf):\n",
        "  peh = (abs(k)*h)/e\n",
        "  return (1/peh) + (np.exp(-peh) + 1)/(2*(np.exp(-peh)-1))\n",
        "def Neumann_difcentral_artificial(xi, xf, nel, k, e):\n",
        "    h = (xf - xi) / nel\n",
        "    h2 = h * h\n",
        "    x = np.linspace(xi, xf, nel)\n",
        "    u = np.zeros(nel)\n",
        "    alpha = 1 #valor cujo a derivada é igual\n",
        "    beta = 1\n",
        "    u[nel-1] = beta\n",
        "    peh = k*(xf - xi)/e\n",
        "    gama = calculagama(-e, k, h, xi,xf)\n",
        "    e = e + gama*k*h\n",
        "    # Construção da matriz\n",
        "    c = np.ones(nel) * (e/h2) + k/(2*h) #diagonal uj+1\n",
        "    b = np.ones(nel) * (-2*e/h2) #diagonal principal\n",
        "    a = np.ones(nel) * ((e/h2) - k/(2*h)) #diagonal uj-1\n",
        "    # Construção do vetor fonte\n",
        "    d = np.zeros(nel)\n",
        "    # Contribuição das condições de contorno no termo fonte\n",
        "    d[0] = d[0] + ((2*e*alpha)/h) - (k*alpha)\n",
        "    d[nel-1] = d[nel-1] - e*beta/h2 - k*beta/(2*h)\n",
        "\n",
        "    # Modificação do primeiro elemento da matriz para inclusão da condição Neumann\n",
        "    b[0] = -2*e/h2\n",
        "    c[0] = 2*e/h2\n",
        "\n",
        "    u[0:nel] = TDMASolve(a, b, c, d)\n",
        "    return u, x"
      ],
      "metadata": {
        "id": "5iMPFzUE2R-H"
      },
      "execution_count": 172,
      "outputs": []
    },
    {
      "cell_type": "code",
      "source": [
        "#u1, x = Neumann_regressivo(0,1,200, 1, 0.01)\n",
        "#u2, x = Neumann_progressivo(0,1,200,1,0.01)\n",
        "#u3,x = Neumann_difcentral(0,1,100,1,0.01)\n",
        "#u4, x = Neumann_difcentral_artificial(0,1,100,1,0.01)\n",
        "#plt.plot(x, u1, '-o')\n",
        "#plt.plot(x, u2, '-o')\n",
        "#plt.plot(x, u4, '-o')\n",
        "\n",
        "erros =[]\n",
        "nels =[]\n",
        "for i in range(2,7):\n",
        "  nel = 10**i\n",
        "  u,x = Neumann_progressivo(0,1,nel, 1,  0.01)\n",
        "  nels.append(nel)\n",
        "  erros.append(norma_maximo(u, sol_exata2(x, 0.01, 1)))\n",
        "  print(nel)\n",
        "  print(1/nel)\n",
        "  ''' plt.plot(x, u, '-o', label = \"diferença progressiva\")\n",
        "  plt.plot(np.linspace(0, 1, 1000), sol_exata2(np.linspace(0, 1, 1000), 0.01, 1), color=\"red\", label=\"solução exata\")\n",
        "  plt.legend()\n",
        "  plt.show() '''\n",
        "\n",
        "plt.plot( np.log10(nels),np.log10(erros),'-o', label=\"diferença progressiva\")\n",
        "print(\"Neumann progressivo \"+ \"%1.f\" % taxaconvergencia(erros,nels))\n",
        "\n",
        "erros =[]\n",
        "nels =[]\n",
        "for i in range(2,7):\n",
        "  nel = 10**i\n",
        "  u,x = Neumann_regressivo(0,1,nel, 1,  0.01)\n",
        "  nels.append(nel)\n",
        "  erros.append(norma_maximo(u, sol_exata2(x, 0.01, 1)))\n",
        "  print(nel)\n",
        "  print(1/nel)\n",
        "  ''' plt.plot(x, u, '-o', label = \"diferença progressiva\")\n",
        "  plt.plot(np.linspace(0, 1, 1000), sol_exata2(np.linspace(0, 1, 1000), 0.01, 1), color=\"red\", label=\"solução exata\")\n",
        "  plt.legend()\n",
        "  plt.show() '''\n",
        "\n",
        "plt.plot( np.log10(nels),np.log10(erros),'-o', label=\"diferença regressiva\")\n",
        "print(\"Neumann regressivo \"+ \"%1.f\" % taxaconvergencia(erros,nels))\n",
        "\n",
        "erros =[]\n",
        "nels =[]\n",
        "for i in range(2,7):\n",
        "  nel = 10**i\n",
        "  u,x = Neumann_difcentral(0,1,nel, 1,  0.01)\n",
        "  nels.append(nel)\n",
        "  erros.append(norma_maximo(u, sol_exata2(x, 0.01, 1)))\n",
        "  print(nel)\n",
        "  print(1/nel)\n",
        "  ''' plt.plot(x, u, '-o', label = \"diferença progressiva\")\n",
        "  plt.plot(np.linspace(0, 1, 1000), sol_exata2(np.linspace(0, 1, 1000), 0.01, 1), color=\"red\", label=\"solução exata\")\n",
        "  plt.legend()\n",
        "  plt.show() '''\n",
        "\n",
        "plt.plot( np.log10(nels),np.log10(erros),'-o', label=\"diferença central\")\n",
        "plt.legend()\n",
        "print(\"Neumann central \"+ \"%.2f\" % taxaconvergencia(erros,nels))\n",
        "\n",
        "#plt.plot(x, u3, '-o')\n",
        "plt.xlabel(\"log₁₀(número de pontos)\")\n",
        "plt.ylabel(\"log₁₀(erro)\")\n",
        "plt.show()"
      ],
      "metadata": {
        "id": "slxQVQ2kos2-"
      },
      "execution_count": null,
      "outputs": []
    },
    {
      "cell_type": "code",
      "source": [
        "for i in range(1, 7):\n",
        "  nel = 10*i\n",
        "  u3,x = Neumann_difcentral(0,1,nel,1,0.01)\n",
        "  u4, x = Neumann_difcentral_artificial(0,1,nel,1,0.01)\n",
        "  print(nel)\n",
        "  print(1/nel)\n",
        "  plt.plot(x, u3,'-o', label=\"Não estabilizada\")\n",
        "  plt.plot(x, u4,'-o', label=\"Estabilizada\")\n",
        "  plt.plot(np.linspace(0, 1, 1000), sol_exata2(np.linspace(0, 1, 1000), 0.01, 1), color=\"red\", label=\"Solução exata\")\n",
        "  plt.legend()\n",
        "  plt.show()"
      ],
      "metadata": {
        "id": "gvfmgprE8CDO"
      },
      "execution_count": null,
      "outputs": []
    },
    {
      "cell_type": "code",
      "source": [
        "for i in range(1, 7):\n",
        "  nel = 10*i\n",
        "  u3,x = Neumann_difcentral(0,1,nel,1,0.01)\n",
        "  u4, x = Neumann_difcentral_artificial(0,1,nel,1,0.01)\n",
        "  print(nel)\n",
        "  print(1/nel)\n",
        "\n",
        "  plt.plot(x, abs(u4-sol_exata2(x, 0.01, 1)), label=\"Estabilizada\")\n",
        "  print(abs(u4-sol_exata2(x, 0.01, 1)))\n",
        "  plt.show()"
      ],
      "metadata": {
        "id": "oI-Sk35LEzPC"
      },
      "execution_count": null,
      "outputs": []
    }
  ]
}